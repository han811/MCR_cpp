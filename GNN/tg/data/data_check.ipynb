{
 "cells": [
  {
   "cell_type": "code",
   "execution_count": 10,
   "source": [
    "import os\n",
    "import numpy as np"
   ],
   "outputs": [],
   "metadata": {}
  },
  {
   "cell_type": "code",
   "execution_count": 12,
   "source": [
    "n_data = len(os.listdir(os.getcwd()+'/obstacle_label'))"
   ],
   "outputs": [],
   "metadata": {}
  },
  {
   "cell_type": "code",
   "execution_count": 15,
   "source": [
    "count_0 = 0\n",
    "count_1 = 0\n",
    "for i in range(1,n_data+1):\n",
    "    label = np.load(os.getcwd()+f'/obstacle_label/obstacle_label{i}.npy').tolist()\n",
    "    count_0 += label.count(0)\n",
    "    count_1 += label.count(1)"
   ],
   "outputs": [],
   "metadata": {}
  },
  {
   "cell_type": "code",
   "execution_count": 18,
   "source": [
    "count_0, count_1"
   ],
   "outputs": [
    {
     "output_type": "execute_result",
     "data": {
      "text/plain": [
       "(170889, 21786)"
      ]
     },
     "metadata": {},
     "execution_count": 18
    }
   ],
   "metadata": {}
  },
  {
   "cell_type": "code",
   "execution_count": 19,
   "source": [
    "ratio_0 = count_0/(count_0+count_1)\n",
    "ratio_1 = count_1/(count_0+count_1)"
   ],
   "outputs": [],
   "metadata": {}
  },
  {
   "cell_type": "code",
   "execution_count": 20,
   "source": [
    "ratio_0, ratio_1"
   ],
   "outputs": [
    {
     "output_type": "execute_result",
     "data": {
      "text/plain": [
       "(0.8869287660568315, 0.11307123394316855)"
      ]
     },
     "metadata": {},
     "execution_count": 20
    }
   ],
   "metadata": {}
  },
  {
   "cell_type": "code",
   "execution_count": 21,
   "source": [
    "# for i in range(1,n_data+1):\n",
    "# ob_graph = np.load(os.getcwd()+f'/obstacle_graph/obstacle_graph{i}.npy').tolist()\n",
    "ob_graph = np.load(os.getcwd()+f'/obstacle_graph/obstacle_graph12.npy').tolist()\n"
   ],
   "outputs": [],
   "metadata": {}
  },
  {
   "cell_type": "code",
   "execution_count": 26,
   "source": [
    "len(ob_graph[0]), ob_graph[0].count(1)"
   ],
   "outputs": [
    {
     "output_type": "execute_result",
     "data": {
      "text/plain": [
       "(1247, 31)"
      ]
     },
     "metadata": {},
     "execution_count": 26
    }
   ],
   "metadata": {}
  },
  {
   "cell_type": "code",
   "execution_count": null,
   "source": [],
   "outputs": [],
   "metadata": {}
  }
 ],
 "metadata": {
  "orig_nbformat": 4,
  "language_info": {
   "name": "python",
   "version": "3.8.11",
   "mimetype": "text/x-python",
   "codemirror_mode": {
    "name": "ipython",
    "version": 3
   },
   "pygments_lexer": "ipython3",
   "nbconvert_exporter": "python",
   "file_extension": ".py"
  },
  "kernelspec": {
   "name": "python3",
   "display_name": "Python 3.8.11 64-bit ('torch_geometric': conda)"
  },
  "interpreter": {
   "hash": "b45ff344b65373c57fc2cdeb2147a162c393ddcbf9969e6858f3f88fd483cb41"
  }
 },
 "nbformat": 4,
 "nbformat_minor": 2
}