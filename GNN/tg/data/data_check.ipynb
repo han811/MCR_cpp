{
 "cells": [
  {
   "cell_type": "code",
   "execution_count": 6,
   "metadata": {},
   "outputs": [],
   "source": [
    "import os\n",
    "import numpy as np"
   ]
  },
  {
   "cell_type": "code",
   "execution_count": 7,
   "metadata": {},
   "outputs": [],
   "source": [
    "n_data = len(os.listdir(os.getcwd()+'/obstacle_label'))"
   ]
  },
  {
   "cell_type": "code",
   "execution_count": 10,
   "metadata": {},
   "outputs": [],
   "source": [
    "count_0 = 0\n",
    "count_1 = 0\n",
    "for i_file in os.listdir(os.getcwd()+'/obstacle_label'):\n",
    "    label = np.load(os.getcwd()+f'/obstacle_label/{i_file}').tolist()\n",
    "    count_0 += label.count(0)\n",
    "    count_1 += label.count(1)"
   ]
  },
  {
   "cell_type": "code",
   "execution_count": 11,
   "metadata": {},
   "outputs": [
    {
     "data": {
      "text/plain": [
       "(4610, 3058)"
      ]
     },
     "execution_count": 11,
     "metadata": {},
     "output_type": "execute_result"
    }
   ],
   "source": [
    "count_0, count_1"
   ]
  },
  {
   "cell_type": "code",
   "execution_count": 12,
   "metadata": {},
   "outputs": [],
   "source": [
    "ratio_0 = count_0/(count_0+count_1)\n",
    "ratio_1 = count_1/(count_0+count_1)"
   ]
  },
  {
   "cell_type": "code",
   "execution_count": 13,
   "metadata": {},
   "outputs": [
    {
     "data": {
      "text/plain": [
       "(0.6011997913406364, 0.3988002086593636)"
      ]
     },
     "execution_count": 13,
     "metadata": {},
     "output_type": "execute_result"
    }
   ],
   "source": [
    "ratio_0, ratio_1"
   ]
  }
 ],
 "metadata": {
  "interpreter": {
   "hash": "f9253e1bdce5f85c697252947576572be7a4b6e367897fe94b2cf56108de713a"
  },
  "kernelspec": {
   "display_name": "Python 3.8.11 64-bit ('torch_geometric': conda)",
   "name": "python3"
  },
  "language_info": {
   "codemirror_mode": {
    "name": "ipython",
    "version": 3
   },
   "file_extension": ".py",
   "mimetype": "text/x-python",
   "name": "python",
   "nbconvert_exporter": "python",
   "pygments_lexer": "ipython3",
   "version": "3.8.11"
  },
  "orig_nbformat": 4
 },
 "nbformat": 4,
 "nbformat_minor": 2
}
