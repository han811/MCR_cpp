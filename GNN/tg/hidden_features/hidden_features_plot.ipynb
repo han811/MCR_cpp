{
 "cells": [
  {
   "cell_type": "code",
   "execution_count": 8,
   "source": [
    "import pickle\n",
    "import pandas as pd\n",
    "import numpy as np"
   ],
   "outputs": [],
   "metadata": {}
  },
  {
   "cell_type": "code",
   "execution_count": 9,
   "source": [
    "data = []\n",
    "with open(f'hidden_features_0','rb') as f:\n",
    "    data = pickle.load(f)"
   ],
   "outputs": [],
   "metadata": {}
  },
  {
   "cell_type": "code",
   "execution_count": 10,
   "source": [
    "for i in range(len(data)):\n",
    "    for j in range(20,25):\n",
    "        print(data[i][j][:15])"
   ],
   "outputs": [
    {
     "output_type": "stream",
     "name": "stdout",
     "text": [
      "tensor([ 0.0280,  0.0358, -0.1110, -0.0480, -0.0149,  0.0996,  0.0386,  0.0062,\n",
      "         0.0326, -0.0033,  0.0091, -0.0268,  0.0475, -0.0402,  0.0369],\n",
      "       device='cuda:0', grad_fn=<SliceBackward>)\n",
      "tensor([ 0.0464,  0.0646, -0.0600, -0.0292, -0.0653,  0.0563,  0.0561,  0.0276,\n",
      "         0.0162,  0.0082, -0.0276, -0.0387, -0.0037,  0.0108,  0.0067],\n",
      "       device='cuda:0', grad_fn=<SliceBackward>)\n",
      "tensor([ 0.0444,  0.0945, -0.0846, -0.0224, -0.0387,  0.0850, -0.0060,  0.0861,\n",
      "        -0.0286, -0.0680,  0.0274, -0.0590,  0.0701, -0.0152, -0.0155],\n",
      "       device='cuda:0', grad_fn=<SliceBackward>)\n",
      "tensor([ 0.0450,  0.0532, -0.0984, -0.0312, -0.0323,  0.0861, -0.0308,  0.0037,\n",
      "        -0.0111, -0.0007, -0.0207, -0.0642,  0.0097,  0.0218,  0.0200],\n",
      "       device='cuda:0', grad_fn=<SliceBackward>)\n",
      "tensor([ 0.0109,  0.0308, -0.0937,  0.0122, -0.0008,  0.0775, -0.0068,  0.0247,\n",
      "         0.0628, -0.0260, -0.0390, -0.0119, -0.0009, -0.0179,  0.0369],\n",
      "       device='cuda:0', grad_fn=<SliceBackward>)\n",
      "tensor([ 0.0043,  0.0040, -0.0143,  0.0750, -0.0368, -0.1041, -0.0076,  0.0413,\n",
      "        -0.0069,  0.0177,  0.0565, -0.0558, -0.0304,  0.0003, -0.0314],\n",
      "       device='cuda:0', grad_fn=<SliceBackward>)\n",
      "tensor([-0.0174,  0.0377, -0.0325,  0.0547, -0.0427, -0.0555, -0.0358,  0.0170,\n",
      "        -0.0166,  0.0141,  0.0642, -0.0197, -0.0691,  0.0131, -0.0090],\n",
      "       device='cuda:0', grad_fn=<SliceBackward>)\n",
      "tensor([-0.0191,  0.0182, -0.0382,  0.0545, -0.0491, -0.0459, -0.0194,  0.0216,\n",
      "        -0.0157,  0.0201,  0.0505, -0.0384, -0.0167,  0.0097, -0.0287],\n",
      "       device='cuda:0', grad_fn=<SliceBackward>)\n",
      "tensor([ 0.0022,  0.0232, -0.0109,  0.0591, -0.0388, -0.0745, -0.0281,  0.0397,\n",
      "        -0.0167,  0.0036,  0.0454, -0.0545, -0.0085,  0.0049,  0.0098],\n",
      "       device='cuda:0', grad_fn=<SliceBackward>)\n",
      "tensor([ 0.0254,  0.0592, -0.0401,  0.0308, -0.0070, -0.0640, -0.0263,  0.0530,\n",
      "         0.0052,  0.0196,  0.0435, -0.0138, -0.0287, -0.0002, -0.0310],\n",
      "       device='cuda:0', grad_fn=<SliceBackward>)\n",
      "tensor([-0.0753, -0.0069,  0.0012, -0.0324,  0.0730, -0.0274, -0.0011, -0.0643,\n",
      "         0.0338,  0.0389, -0.0426, -0.0951, -0.0419,  0.0144, -0.0019],\n",
      "       device='cuda:0', grad_fn=<SliceBackward>)\n",
      "tensor([-0.0957, -0.0064,  0.0070, -0.0326,  0.0545, -0.0290, -0.0158, -0.0713,\n",
      "         0.0161,  0.0384, -0.0346, -0.0823, -0.0461, -0.0038,  0.0104],\n",
      "       device='cuda:0', grad_fn=<SliceBackward>)\n",
      "tensor([-0.0880, -0.0021,  0.0081, -0.0358,  0.0560, -0.0277, -0.0045, -0.0728,\n",
      "         0.0248,  0.0406, -0.0342, -0.0997, -0.0394,  0.0062, -0.0080],\n",
      "       device='cuda:0', grad_fn=<SliceBackward>)\n",
      "tensor([-0.0866, -0.0137, -0.0010, -0.0235,  0.0614, -0.0311, -0.0032, -0.0630,\n",
      "         0.0396,  0.0357, -0.0377, -0.0818, -0.0526, -0.0052,  0.0081],\n",
      "       device='cuda:0', grad_fn=<SliceBackward>)\n",
      "tensor([-0.0762, -0.0048, -0.0022, -0.0120,  0.0638, -0.0376, -0.0032, -0.0840,\n",
      "         0.0240,  0.0400, -0.0415, -0.0718, -0.0353,  0.0137, -0.0067],\n",
      "       device='cuda:0', grad_fn=<SliceBackward>)\n",
      "tensor([-0.0039, -0.1223, -0.0518, -0.0227,  0.0521, -0.0452, -0.0034,  0.0002,\n",
      "        -0.0070, -0.0178, -0.0066, -0.0474,  0.0302,  0.0012, -0.0376],\n",
      "       device='cuda:0', grad_fn=<SliceBackward>)\n",
      "tensor([-0.0084, -0.1330, -0.0556, -0.0254,  0.0473, -0.0327, -0.0049,  0.0114,\n",
      "        -0.0100,  0.0005, -0.0054, -0.0414,  0.0450, -0.0029, -0.0413],\n",
      "       device='cuda:0', grad_fn=<SliceBackward>)\n",
      "tensor([-0.0067, -0.1199, -0.0551, -0.0257,  0.0475, -0.0423,  0.0010,  0.0082,\n",
      "        -0.0011, -0.0013, -0.0074, -0.0406,  0.0488, -0.0063, -0.0468],\n",
      "       device='cuda:0', grad_fn=<SliceBackward>)\n",
      "tensor([-0.0107, -0.1280, -0.0551, -0.0242,  0.0509, -0.0424,  0.0166, -0.0017,\n",
      "        -0.0007, -0.0049, -0.0062, -0.0392,  0.0358,  0.0084, -0.0421],\n",
      "       device='cuda:0', grad_fn=<SliceBackward>)\n",
      "tensor([-0.0017, -0.1241, -0.0469, -0.0257,  0.0513, -0.0322,  0.0059, -0.0012,\n",
      "        -0.0037, -0.0074, -0.0067, -0.0339,  0.0345, -0.0029, -0.0422],\n",
      "       device='cuda:0', grad_fn=<SliceBackward>)\n",
      "tensor([-0.0604, -0.0683,  0.0469, -0.0574, -0.0574,  0.0062,  0.0082,  0.0080,\n",
      "        -0.0126,  0.0819, -0.0041,  0.0590,  0.0519,  0.0208,  0.0375],\n",
      "       device='cuda:0', grad_fn=<SliceBackward>)\n",
      "tensor([-0.0566, -0.0674,  0.0400, -0.0613, -0.0645,  0.0087,  0.0026,  0.0114,\n",
      "        -0.0105,  0.0806, -0.0022,  0.0648,  0.0574,  0.0226,  0.0395],\n",
      "       device='cuda:0', grad_fn=<SliceBackward>)\n",
      "tensor([-0.0555, -0.0717,  0.0468, -0.0555, -0.0661,  0.0074,  0.0082,  0.0099,\n",
      "        -0.0159,  0.0787, -0.0068,  0.0626,  0.0564,  0.0228,  0.0407],\n",
      "       device='cuda:0', grad_fn=<SliceBackward>)\n",
      "tensor([-0.0572, -0.0676,  0.0452, -0.0561, -0.0658,  0.0066,  0.0082,  0.0087,\n",
      "        -0.0095,  0.0857, -0.0021,  0.0670,  0.0570,  0.0207,  0.0347],\n",
      "       device='cuda:0', grad_fn=<SliceBackward>)\n",
      "tensor([-0.0589, -0.0651,  0.0429, -0.0586, -0.0621,  0.0024,  0.0055,  0.0036,\n",
      "        -0.0097,  0.0834, -0.0051,  0.0641,  0.0530,  0.0236,  0.0371],\n",
      "       device='cuda:0', grad_fn=<SliceBackward>)\n",
      "tensor([-0.0176], device='cuda:0', grad_fn=<SliceBackward>)\n",
      "tensor([-0.0202], device='cuda:0', grad_fn=<SliceBackward>)\n",
      "tensor([-0.0189], device='cuda:0', grad_fn=<SliceBackward>)\n",
      "tensor([-0.0212], device='cuda:0', grad_fn=<SliceBackward>)\n",
      "tensor([-0.0183], device='cuda:0', grad_fn=<SliceBackward>)\n",
      "tensor([0.4956], device='cuda:0', grad_fn=<SliceBackward>)\n",
      "tensor([0.4950], device='cuda:0', grad_fn=<SliceBackward>)\n",
      "tensor([0.4953], device='cuda:0', grad_fn=<SliceBackward>)\n",
      "tensor([0.4947], device='cuda:0', grad_fn=<SliceBackward>)\n",
      "tensor([0.4954], device='cuda:0', grad_fn=<SliceBackward>)\n"
     ]
    }
   ],
   "metadata": {}
  },
  {
   "cell_type": "code",
   "execution_count": 7,
   "source": [
    "for j in range(0,25):\n",
    "    print(data[-1][j][:15].item())"
   ],
   "outputs": [
    {
     "output_type": "stream",
     "name": "stdout",
     "text": [
      "0.4889676570892334\n",
      "0.4889676570892334\n",
      "0.4889676570892334\n",
      "0.4889676570892334\n",
      "0.4889676570892334\n",
      "0.4889676570892334\n",
      "0.4889676570892334\n",
      "0.4889676570892334\n",
      "0.4889676570892334\n",
      "0.4889676570892334\n",
      "0.4889676570892334\n",
      "0.4889676570892334\n",
      "0.4889676570892334\n",
      "0.4889676570892334\n",
      "0.4889676570892334\n",
      "0.4889676570892334\n",
      "0.4889676570892334\n",
      "0.4889676570892334\n",
      "0.4889676570892334\n",
      "0.4889676570892334\n",
      "0.4889676570892334\n",
      "0.4889676570892334\n",
      "0.4889676570892334\n",
      "0.4889676570892334\n",
      "0.4889676570892334\n"
     ]
    }
   ],
   "metadata": {}
  },
  {
   "cell_type": "code",
   "execution_count": null,
   "source": [],
   "outputs": [],
   "metadata": {}
  },
  {
   "cell_type": "code",
   "execution_count": null,
   "source": [],
   "outputs": [],
   "metadata": {}
  }
 ],
 "metadata": {
  "kernelspec": {
   "name": "python3",
   "display_name": "Python 3.8.11 64-bit ('torch_geometric': conda)"
  },
  "language_info": {
   "codemirror_mode": {
    "name": "ipython",
    "version": 3
   },
   "file_extension": ".py",
   "mimetype": "text/x-python",
   "name": "python",
   "nbconvert_exporter": "python",
   "pygments_lexer": "ipython3",
   "version": "3.8.11"
  },
  "interpreter": {
   "hash": "b45ff344b65373c57fc2cdeb2147a162c393ddcbf9969e6858f3f88fd483cb41"
  }
 },
 "nbformat": 4,
 "nbformat_minor": 5
}