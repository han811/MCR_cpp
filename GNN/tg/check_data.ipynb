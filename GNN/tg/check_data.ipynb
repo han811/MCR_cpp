{
 "cells": [
  {
   "cell_type": "code",
   "execution_count": 1,
   "source": [
    "from tg_Preprocessing import load_tg_data"
   ],
   "outputs": [],
   "metadata": {}
  },
  {
   "cell_type": "code",
   "execution_count": 3,
   "source": [
    "train_set:list = []\n",
    "val_set:list = []\n",
    "test_set:list = []\n",
    "for data_num in range(0,6):\n",
    "    tmp_train_set, tmp_val_set, tmp_test_set = load_tg_data(num=data_num)\n",
    "    train_set += tmp_train_set\n",
    "    val_set += tmp_val_set\n",
    "    test_set += tmp_test_set"
   ],
   "outputs": [],
   "metadata": {}
  },
  {
   "cell_type": "code",
   "execution_count": 4,
   "source": [
    "len(train_set)"
   ],
   "outputs": [
    {
     "output_type": "execute_result",
     "data": {
      "text/plain": [
       "4194"
      ]
     },
     "metadata": {},
     "execution_count": 4
    }
   ],
   "metadata": {}
  },
  {
   "cell_type": "code",
   "execution_count": 11,
   "source": [
    "n_train_0 = 0\n",
    "n_train_1 = 0\n",
    "for data in train_set:\n",
    "    tmp = data.x.tolist()\n",
    "    for line in tmp:\n",
    "        n_train_0 += line.count(0)\n",
    "        n_train_1 += line.count(1)\n"
   ],
   "outputs": [],
   "metadata": {}
  },
  {
   "cell_type": "code",
   "execution_count": 12,
   "source": [
    "n_val_0 = 0\n",
    "n_val_1 = 0\n",
    "for data in val_set:\n",
    "    tmp = data.x.tolist()\n",
    "    for line in tmp:\n",
    "        n_val_0 += line.count(0)\n",
    "        n_val_1 += line.count(1)"
   ],
   "outputs": [],
   "metadata": {}
  },
  {
   "cell_type": "code",
   "execution_count": 13,
   "source": [
    "n_test_0 = 0\n",
    "n_test_1 = 0\n",
    "for data in test_set:\n",
    "    tmp = data.x.tolist()\n",
    "    for line in tmp:\n",
    "        n_test_0 += line.count(0)\n",
    "        n_test_1 += line.count(1)"
   ],
   "outputs": [],
   "metadata": {}
  },
  {
   "cell_type": "code",
   "execution_count": 15,
   "source": [
    "train_0_ratio = n_train_0/(n_train_0+n_train_1)\n",
    "train_1_ratio = n_train_1/(n_train_0+n_train_1)\n",
    "val_0_ratio = n_val_0/(n_val_0+n_val_1)\n",
    "val_1_ratio = n_val_1/(n_val_0+n_val_1)\n",
    "test_0_ratio = n_test_0/(n_test_0+n_test_1)\n",
    "test_1_ratio = n_test_1/(n_test_0+n_test_1)\n",
    "total_0_ratio = (n_train_0+n_val_0+n_test_0)/(n_train_0+n_train_1+n_val_0+n_val_1+n_test_0+n_test_1)\n",
    "total_1_ratio = (n_train_1+n_val_1+n_test_1)/(n_train_0+n_train_1+n_val_0+n_val_1+n_test_0+n_test_1)"
   ],
   "outputs": [],
   "metadata": {}
  },
  {
   "cell_type": "code",
   "execution_count": 16,
   "source": [
    "train_0_ratio, train_1_ratio, val_0_ratio, val_1_ratio, test_0_ratio, test_1_ratio, total_0_ratio, total_1_ratio"
   ],
   "outputs": [
    {
     "output_type": "execute_result",
     "data": {
      "text/plain": [
       "(0.9766780836540745,\n",
       " 0.02332191634592554,\n",
       " 0.9766771827057182,\n",
       " 0.02332281729428173,\n",
       " 0.9766726597345927,\n",
       " 0.023327340265407295,\n",
       " 0.9766773556485355,\n",
       " 0.023322644351464434)"
      ]
     },
     "metadata": {},
     "execution_count": 16
    }
   ],
   "metadata": {}
  },
  {
   "cell_type": "code",
   "execution_count": 20,
   "source": [
    "n_y_train_0 = 0\n",
    "n_y_train_1 = 0\n",
    "for data in train_set:\n",
    "    tmp = data.y.tolist()\n",
    "    n_y_train_0 += line.count(0)\n",
    "    n_y_train_1 += line.count(1)"
   ],
   "outputs": [],
   "metadata": {}
  },
  {
   "cell_type": "code",
   "execution_count": 21,
   "source": [
    "n_y_val_0 = 0\n",
    "n_y_val_1 = 0\n",
    "for data in val_set:\n",
    "    tmp = data.y.tolist()\n",
    "    n_y_val_0 += line.count(0)\n",
    "    n_y_val_1 += line.count(1)"
   ],
   "outputs": [],
   "metadata": {}
  },
  {
   "cell_type": "code",
   "execution_count": 22,
   "source": [
    "n_y_test_0 = 0\n",
    "n_y_test_1 = 0\n",
    "for data in test_set:\n",
    "    tmp = data.y.tolist()\n",
    "    n_y_test_0 += line.count(0)\n",
    "    n_y_test_1 += line.count(1)"
   ],
   "outputs": [],
   "metadata": {}
  },
  {
   "cell_type": "code",
   "execution_count": 23,
   "source": [
    "y_train_0_ratio = n_y_train_0/(n_y_train_0+n_y_train_1)\n",
    "y_train_1_ratio = n_y_train_1/(n_y_train_0+n_y_train_1)\n",
    "y_val_0_ratio = n_y_val_0/(n_y_val_0+n_y_val_1)\n",
    "y_val_1_ratio = n_y_val_1/(n_y_val_0+n_y_val_1)\n",
    "y_test_0_ratio = n_y_test_0/(n_y_test_0+n_y_test_1)\n",
    "y_test_1_ratio = n_y_test_1/(n_y_test_0+n_y_test_1)\n",
    "y_total_0_ratio = (n_y_train_0+n_y_val_0+n_y_test_0)/(n_y_train_0+n_y_train_1+n_y_val_0+n_y_val_1+n_y_test_0+n_y_test_1)\n",
    "y_total_1_ratio = (n_y_train_1+n_y_val_1+n_y_test_1)/(n_y_train_0+n_y_train_1+n_y_val_0+n_y_val_1+n_y_test_0+n_y_test_1)"
   ],
   "outputs": [],
   "metadata": {}
  },
  {
   "cell_type": "code",
   "execution_count": 24,
   "source": [
    "y_train_0_ratio, y_train_1_ratio, y_val_0_ratio, y_val_1_ratio, y_test_0_ratio, y_test_1_ratio, y_total_0_ratio, y_total_1_ratio"
   ],
   "outputs": [
    {
     "output_type": "execute_result",
     "data": {
      "text/plain": [
       "(0.9799163179916318,\n",
       " 0.0200836820083682,\n",
       " 0.9799163179916318,\n",
       " 0.0200836820083682,\n",
       " 0.9799163179916318,\n",
       " 0.0200836820083682,\n",
       " 0.9799163179916318,\n",
       " 0.0200836820083682)"
      ]
     },
     "metadata": {},
     "execution_count": 24
    }
   ],
   "metadata": {}
  },
  {
   "cell_type": "code",
   "execution_count": 26,
   "source": [
    "total_num_of_graph = len(train_set) + len(val_set) + len(test_set)\n",
    "total_num_of_graph"
   ],
   "outputs": [
    {
     "output_type": "execute_result",
     "data": {
      "text/plain": [
       "6000"
      ]
     },
     "metadata": {},
     "execution_count": 26
    }
   ],
   "metadata": {}
  },
  {
   "cell_type": "code",
   "execution_count": null,
   "source": [],
   "outputs": [],
   "metadata": {}
  }
 ],
 "metadata": {
  "orig_nbformat": 4,
  "language_info": {
   "name": "python",
   "version": "3.8.11",
   "mimetype": "text/x-python",
   "codemirror_mode": {
    "name": "ipython",
    "version": 3
   },
   "pygments_lexer": "ipython3",
   "nbconvert_exporter": "python",
   "file_extension": ".py"
  },
  "kernelspec": {
   "name": "python3",
   "display_name": "Python 3.8.11 64-bit ('torch_geometric': conda)"
  },
  "interpreter": {
   "hash": "b45ff344b65373c57fc2cdeb2147a162c393ddcbf9969e6858f3f88fd483cb41"
  }
 },
 "nbformat": 4,
 "nbformat_minor": 2
}